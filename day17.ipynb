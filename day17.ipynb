{
 "cells": [
  {
   "cell_type": "markdown",
   "metadata": {},
   "source": [
    "Question NO 1. Write a program to find average of all the even numbers, and \n",
    "odd number that are present in the list. And also your program \n",
    "shold be return no. of evens and odd are present in this list List \n",
    "for your reference \n",
    "lst = [25,41,85,96,35,64,75,9,12,21,32,23,25,56]\n"
   ]
  },
  {
   "cell_type": "code",
   "execution_count": 27,
   "metadata": {},
   "outputs": [],
   "source": [
    "import matplotlib.pyplot as plt\n",
    "\n",
    "import seaborn as sn\n",
    "import pandas as pd\n",
    "import numpy as np"
   ]
  },
  {
   "cell_type": "code",
   "execution_count": 40,
   "metadata": {},
   "outputs": [
    {
     "data": {
      "text/plain": [
       "[9, 12, 21, 23, 25, 25, 32, 35, 41, 56, 64, 75, 85, 96]"
      ]
     },
     "execution_count": 40,
     "metadata": {},
     "output_type": "execute_result"
    }
   ],
   "source": [
    "lst = [25,41,85,96,35,64,75,9,12,21,32,23,25,56]\n",
    "lst.sort()\n",
    "lst\n",
    "\n"
   ]
  },
  {
   "cell_type": "code",
   "execution_count": 29,
   "metadata": {},
   "outputs": [
    {
     "name": "stdout",
     "output_type": "stream",
     "text": [
      "EVEN: [96, 64, 12, 32, 56]\n",
      "average is-> 52.0\n",
      "ODD: [25, 41, 85, 35, 75, 9, 21, 23, 25]\n",
      "average is-> 37.666666666666664\n"
     ]
    }
   ],
   "source": [
    "def average(e):\n",
    "     sum=0\n",
    "     for item in e: \n",
    "         sum=sum+item\n",
    "     avg=sum/len(e)\n",
    "     print(\"average is->\",avg)     \n",
    "\n",
    "\n",
    "\n",
    "\n",
    "\n",
    "def evenandodd(lst):\n",
    "    even=[]\n",
    "    odd=[]\n",
    "    for item in lst:\n",
    "        if item%2==1:\n",
    "            odd.append(item)\n",
    "\n",
    "        else :\n",
    "            even.append(item)\n",
    "\n",
    "    print(\"EVEN:\",even)\n",
    "    average(even)\n",
    "    print(\"ODD:\",odd)  \n",
    "    average(odd)           \n",
    "\n",
    "\n",
    "evenandodd(lst)"
   ]
  },
  {
   "cell_type": "markdown",
   "metadata": {},
   "source": [
    "Question 2. Write a program to find the target element from the list, with \n",
    "linear search and Binary Search.\n"
   ]
  },
  {
   "cell_type": "markdown",
   "metadata": {},
   "source": [
    "linear Search\n"
   ]
  },
  {
   "cell_type": "code",
   "execution_count": 30,
   "metadata": {},
   "outputs": [
    {
     "name": "stdout",
     "output_type": "stream",
     "text": [
      "The element is at-> 0\n",
      "The element is at-> 12\n"
     ]
    }
   ],
   "source": [
    "def linearSearch(r,i):\n",
    "    a=0\n",
    "    b=0\n",
    "    for item in r:\n",
    "        if item==i:\n",
    "            print(\"The element is at->\",a)\n",
    "            b=b+1\n",
    "        a=a+1\n",
    "\n",
    "    if b==0:\n",
    "     print(\"Element is not found\")\n",
    "\n",
    "linearSearch(lst,25)"
   ]
  },
  {
   "cell_type": "markdown",
   "metadata": {},
   "source": [
    "Binary Search"
   ]
  },
  {
   "cell_type": "code",
   "execution_count": 39,
   "metadata": {},
   "outputs": [
    {
     "name": "stdout",
     "output_type": "stream",
     "text": [
      "Elemnt is found at->  10\n"
     ]
    }
   ],
   "source": [
    "def binarySearch(r,i):\n",
    "    r.sort()\n",
    "    n=len(r)\n",
    "    s=0\n",
    "    e=n-1\n",
    "   \n",
    "\n",
    "    while s<=e:\n",
    "          mid= ( s+e)//2\n",
    "          if r[mid]<i:\n",
    "            s=mid+1\n",
    "\n",
    "          elif    r[mid]>i:\n",
    "                 e=mid-1\n",
    "          \n",
    "          elif r[mid]==i:\n",
    "               print(\"Elemnt is found at-> \",mid)\n",
    "               break\n",
    "            \n",
    "\n",
    "\n",
    "binarySearch(lst,64)"
   ]
  },
  {
   "cell_type": "markdown",
   "metadata": {},
   "source": [
    "Question No. 3  Learn about list comprehension and write a program to \n",
    "generate a list of square element from this given list and also \n",
    "try to filter all the even numbers from the given list using list \n",
    "comprehension. \n",
    "lst = [25,41,85,96,35,64,75,9,12,21,32,23,25,56]\n"
   ]
  },
  {
   "cell_type": "code",
   "execution_count": 41,
   "metadata": {},
   "outputs": [],
   "source": [
    "lst = [25,41,85,96,35,64,75,9,12,21,32,23,25,56]\n"
   ]
  },
  {
   "cell_type": "code",
   "execution_count": 44,
   "metadata": {},
   "outputs": [
    {
     "data": {
      "text/plain": [
       "[625, 1681, 7225, 9216, 1225, 4096, 5625, 81, 144, 441, 1024, 529, 625, 3136]"
      ]
     },
     "execution_count": 44,
     "metadata": {},
     "output_type": "execute_result"
    }
   ],
   "source": [
    "Square=[num**2 for num in lst]\n",
    "Square"
   ]
  },
  {
   "cell_type": "code",
   "execution_count": 50,
   "metadata": {},
   "outputs": [
    {
     "data": {
      "text/plain": [
       "[96, 64, 12, 32, 56]"
      ]
     },
     "execution_count": 50,
     "metadata": {},
     "output_type": "execute_result"
    }
   ],
   "source": [
    "Even=[item  for item in lst if item%2==0]\n",
    "Even"
   ]
  },
  {
   "cell_type": "code",
   "execution_count": null,
   "metadata": {},
   "outputs": [],
   "source": []
  }
 ],
 "metadata": {
  "kernelspec": {
   "display_name": "Python 3",
   "language": "python",
   "name": "python3"
  },
  "language_info": {
   "codemirror_mode": {
    "name": "ipython",
    "version": 3
   },
   "file_extension": ".py",
   "mimetype": "text/x-python",
   "name": "python",
   "nbconvert_exporter": "python",
   "pygments_lexer": "ipython3",
   "version": "3.12.3"
  }
 },
 "nbformat": 4,
 "nbformat_minor": 2
}
